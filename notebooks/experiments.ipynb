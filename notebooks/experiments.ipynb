{
 "cells": [
  {
   "cell_type": "markdown",
   "metadata": {},
   "source": [
    "# Introduction\n",
    "\n",
    "J'ai tout d'abord commencé par uploader le dataset sur [Hugging Face](https://huggingface.co/datasets/Alanox/stanford-dogs) à la fois pour apprendre à utiliser l'upload de dataset mais également pour faire partager ce dataset facilement à la communauté.\n",
    "\n",
    "Testons que cela fonctione bien"
   ]
  },
  {
   "cell_type": "code",
   "execution_count": null,
   "metadata": {},
   "outputs": [],
   "source": [
    "import datasets\n",
    "\n",
    "dataset = datasets.load_dataset(\"Alanox/stanford-dogs\", split=\"full\")\n",
    "dataset"
   ]
  },
  {
   "cell_type": "code",
   "execution_count": null,
   "metadata": {},
   "outputs": [],
   "source": [
    "dataset[0][\"image\"]"
   ]
  },
  {
   "cell_type": "markdown",
   "metadata": {},
   "source": [
    "L'avantage est que le dataset entier n'est pas chargé ! On charge uniquement ce dont on a besoin"
   ]
  },
  {
   "cell_type": "markdown",
   "metadata": {},
   "source": [
    "# Données\n",
    "\n",
    "Regardons un peu les données."
   ]
  },
  {
   "cell_type": "code",
   "execution_count": null,
   "metadata": {},
   "outputs": [],
   "source": [
    "import pandas as pd\n",
    "import matplotlib.pyplot as plt\n",
    "import numpy as np\n",
    "\n",
    "plt.style.use(['ggplot', 'https://raw.githubusercontent.com/AlanBlanchet/matplotlib_styles/master/vscode_blue.mplstyle'])\n",
    "\n",
    "df = pd.DataFrame(dataset.select_columns([\"name\", \"target\", \"annotations\"]).to_dict())\n",
    "df.head()"
   ]
  },
  {
   "cell_type": "code",
   "execution_count": null,
   "metadata": {},
   "outputs": [],
   "source": [
    "len(df)"
   ]
  },
  {
   "cell_type": "code",
   "execution_count": null,
   "metadata": {},
   "outputs": [],
   "source": [
    "plt.figure(figsize=(24,9))\n",
    "counts = df[\"target\"].value_counts()\n",
    "\n",
    "plt.title(\"Target distribution\")\n",
    "plt.bar(counts.index, counts)\n",
    "plt.xticks(ha=\"right\", rotation=45);"
   ]
  },
  {
   "cell_type": "code",
   "execution_count": null,
   "metadata": {},
   "outputs": [],
   "source": [
    "df_annots = pd.DataFrame(df[\"annotations\"].explode().reset_index(drop=True).tolist(), columns=[\"xmin\", \"ymin\", \"xmax\", \"ymax\"])\n",
    "df_annots.head()"
   ]
  },
  {
   "cell_type": "code",
   "execution_count": null,
   "metadata": {},
   "outputs": [],
   "source": [
    "df_annots.describe()"
   ]
  },
  {
   "cell_type": "code",
   "execution_count": null,
   "metadata": {},
   "outputs": [],
   "source": [
    "fig, axs = plt.subplots(2, 2, figsize=(16,9), sharex=True, sharey=True)\n",
    "axs:list[plt.Axes] = np.array(axs).flatten()\n",
    "\n",
    "fig.suptitle(\"Coordinate distributions\")\n",
    "for ax, (name, coords) in zip(axs, df_annots.T.iterrows()):\n",
    "    sorted_coords = coords.sort_values()\n",
    "    ax.set_title(name)\n",
    "    ax.plot(sorted_coords.values)"
   ]
  },
  {
   "cell_type": "code",
   "execution_count": null,
   "metadata": {},
   "outputs": [],
   "source": [
    "def pixel_area(box:pd.DataFrame):\n",
    "    box_annots = box[\"annotations\"].explode()\n",
    "    box_area = box_annots.apply(lambda r: (r[2] - r[0]) * (r[3] - r[1]))\n",
    "    return box_area"
   ]
  },
  {
   "cell_type": "code",
   "execution_count": null,
   "metadata": {},
   "outputs": [],
   "source": [
    "target_areas = df.groupby(\"target\").apply(pixel_area)\n",
    "target_mean_areas = target_areas.groupby(\"target\").apply(np.mean)\n",
    "target_mean_areas.head()"
   ]
  },
  {
   "cell_type": "code",
   "execution_count": null,
   "metadata": {},
   "outputs": [],
   "source": [
    "target_mean_areas = target_mean_areas.sort_values()\n",
    "\n",
    "plt.figure(figsize=(24,9))\n",
    "\n",
    "plt.title(\"Mean annotation box area per target\")\n",
    "plt.bar(target_mean_areas.index, target_mean_areas)\n",
    "plt.ylabel(\"pixel**2\")\n",
    "plt.xticks(ha=\"right\", rotation=45);"
   ]
  },
  {
   "cell_type": "markdown",
   "metadata": {},
   "source": [
    "On remarque qu'il y a plus de pixels représentant un \"Irish Water Spaniel\" qu'un \"English Foxhound\""
   ]
  },
  {
   "cell_type": "code",
   "execution_count": null,
   "metadata": {},
   "outputs": [],
   "source": [
    "first_targets = df.drop_duplicates([\"target\"], keep=\"first\").reset_index().set_index(\"target\")\n",
    "first_targets.head()"
   ]
  },
  {
   "cell_type": "code",
   "execution_count": null,
   "metadata": {},
   "outputs": [],
   "source": [
    "idx_english_foxhound = int(first_targets.loc[\"English Foxhound\"][\"index\"])\n",
    "idx_irish_water_spaniel = int(first_targets.loc[\"Irish Water Spaniel\"][\"index\"])\n",
    "idx_english_foxhound, idx_irish_water_spaniel"
   ]
  },
  {
   "cell_type": "code",
   "execution_count": null,
   "metadata": {},
   "outputs": [],
   "source": [
    "img = dataset[idx_english_foxhound][\"image\"]\n",
    "print(img.size)\n",
    "img"
   ]
  },
  {
   "cell_type": "code",
   "execution_count": null,
   "metadata": {},
   "outputs": [],
   "source": [
    "img = dataset[idx_irish_water_spaniel][\"image\"]\n",
    "print(img.size)\n",
    "img"
   ]
  },
  {
   "cell_type": "markdown",
   "metadata": {},
   "source": [
    "# Data augmentation"
   ]
  },
  {
   "cell_type": "code",
   "execution_count": null,
   "metadata": {},
   "outputs": [],
   "source": [
    "import torchvision\n",
    "import torchvision.transforms.functional as F\n",
    "import torchvision.transforms.v2 as T\n",
    "\n",
    "torchvision.disable_beta_transforms_warning()\n",
    "\n",
    "img = dataset.with_format(\"pytorch\")[0][\"image\"]\n",
    "transforms = T.Compose([\n",
    "    lambda x: x.permute(2, 0, 1),\n",
    "    T.Resize(400, antialias=True)\n",
    "])\n",
    "F.to_pil_image(transforms(img))"
   ]
  },
  {
   "cell_type": "code",
   "execution_count": null,
   "metadata": {},
   "outputs": [],
   "source": [
    "applies = [\n",
    "    T.AugMix(),\n",
    "    T.AutoAugment(),\n",
    "    T.CenterCrop(200),\n",
    "    T.ColorJitter(),\n",
    "    T.ElasticTransform(50.0, 1.0),\n",
    "    T.Grayscale(),\n",
    "    T.GaussianBlur(5),\n",
    "    T.Pad(30),\n",
    "    T.RandomAdjustSharpness(2, p=1),\n",
    "    T.RandomAutocontrast(p=1),\n",
    "    T.RandomCrop(200, 200),\n",
    "    T.RandomHorizontalFlip(p=1),\n",
    "    T.RandomVerticalFlip(p=1),\n",
    "    T.RandomInvert(p=1),\n",
    "    T.RandomPerspective(p=1),\n",
    "    T.RandomPhotometricDistort(p=1),\n",
    "    T.RandomPosterize(4, p=1),\n",
    "    T.RandomZoomOut(p=1),\n",
    "    T.RandomSolarize(0.5, p=1),\n",
    "]\n",
    "\n",
    "n = len(applies)\n",
    "\n",
    "cols = 4\n",
    "rows = -(-n // 4)  # ceil\n",
    "\n",
    "fig, axs = plt.subplots(rows, cols, sharex=True, sharey=True, figsize=(24, 26))\n",
    "for ax, transform in zip(axs.flatten(), applies):\n",
    "    ax.set_title(type(transform).__name__)\n",
    "    ax.grid(False)\n",
    "    ax.imshow(transform(F.to_pil_image(transforms(img))))"
   ]
  }
 ],
 "metadata": {
  "kernelspec": {
   "display_name": "oc5-2XWLAjSi-py3.10",
   "language": "python",
   "name": "python3"
  },
  "language_info": {
   "codemirror_mode": {
    "name": "ipython",
    "version": 3
   },
   "file_extension": ".py",
   "mimetype": "text/x-python",
   "name": "python",
   "nbconvert_exporter": "python",
   "pygments_lexer": "ipython3",
   "version": "3.10.10"
  },
  "orig_nbformat": 4
 },
 "nbformat": 4,
 "nbformat_minor": 2
}
